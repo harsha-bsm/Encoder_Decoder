{
  "nbformat": 4,
  "nbformat_minor": 0,
  "metadata": {
    "colab": {
      "name": "Colab_25GBRAM_GPU Techhawa.ipynb",
      "provenance": [],
      "collapsed_sections": [],
      "machine_shape": "hm"
    },
    "kernelspec": {
      "name": "python3",
      "display_name": "Python 3"
    },
    "accelerator": "GPU"
  },
  "cells": [
    {
      "cell_type": "code",
      "metadata": {
        "id": "ne3aScFEfJef"
      },
      "source": [
        ""
      ],
      "execution_count": null,
      "outputs": []
    },
    {
      "cell_type": "markdown",
      "metadata": {
        "id": "xQp1RU0Qf58n"
      },
      "source": [
        "#jhbl"
      ]
    },
    {
      "cell_type": "code",
      "metadata": {
        "id": "R5HcLgUZbhea",
        "colab": {
          "base_uri": "https://localhost:8080/"
        },
        "outputId": "02844933-8793-4b10-99d6-0d4108ef138c"
      },
      "source": [
        "%tensorflow_version 2.x\n",
        "import tensorflow as tf\n",
        "device_name = tf.test.gpu_device_name()\n",
        "if device_name != '/device:GPU:0':\n",
        "  raise SystemError('GPU device not found')\n",
        "print('Found GPU at: {}'.format(device_name))"
      ],
      "execution_count": 1,
      "outputs": [
        {
          "output_type": "stream",
          "text": [
            "Found GPU at: /device:GPU:0\n"
          ],
          "name": "stdout"
        }
      ]
    },
    {
      "cell_type": "markdown",
      "metadata": {
        "id": "Gf8UN2xdlvs6"
      },
      "source": [
        ""
      ]
    },
    {
      "cell_type": "code",
      "metadata": {
        "id": "ScW-BT79sOOB"
      },
      "source": [
        ""
      ],
      "execution_count": 1,
      "outputs": []
    },
    {
      "cell_type": "code",
      "metadata": {
        "id": "fU80Ao-AGaob",
        "colab": {
          "base_uri": "https://localhost:8080/"
        },
        "outputId": "b7e76844-e593-4968-9f67-4f1e4a009a51"
      },
      "source": [
        "!wget http://www.manythings.org/anki/ita-eng.zip\n",
        "!unzip ita-eng.zip"
      ],
      "execution_count": 2,
      "outputs": [
        {
          "output_type": "stream",
          "text": [
            "--2020-11-24 13:48:03--  http://www.manythings.org/anki/ita-eng.zip\n",
            "Resolving www.manythings.org (www.manythings.org)... 104.24.109.196, 104.24.108.196, 172.67.173.198, ...\n",
            "Connecting to www.manythings.org (www.manythings.org)|104.24.109.196|:80... connected.\n",
            "HTTP request sent, awaiting response... 200 OK\n",
            "Length: 7521114 (7.2M) [application/zip]\n",
            "Saving to: ‘ita-eng.zip’\n",
            "\n",
            "ita-eng.zip         100%[===================>]   7.17M  6.13MB/s    in 1.2s    \n",
            "\n",
            "2020-11-24 13:48:05 (6.13 MB/s) - ‘ita-eng.zip’ saved [7521114/7521114]\n",
            "\n",
            "Archive:  ita-eng.zip\n",
            "  inflating: ita.txt                 \n",
            "  inflating: _about.txt              \n"
          ],
          "name": "stdout"
        }
      ]
    },
    {
      "cell_type": "markdown",
      "metadata": {
        "id": "mYzCMdW0lux8"
      },
      "source": [
        ""
      ]
    },
    {
      "cell_type": "code",
      "metadata": {
        "id": "G6aDMnsP89VN",
        "colab": {
          "base_uri": "https://localhost:8080/"
        },
        "outputId": "1112efc6-f50b-4350-84a6-bad0b7438a3a"
      },
      "source": [
        "!wget https://www.dropbox.com/s/ddkmtqz01jc024u/glove.6B.100d.txt"
      ],
      "execution_count": 3,
      "outputs": [
        {
          "output_type": "stream",
          "text": [
            "--2020-11-24 13:48:11--  https://www.dropbox.com/s/ddkmtqz01jc024u/glove.6B.100d.txt\n",
            "Resolving www.dropbox.com (www.dropbox.com)... 162.125.65.1, 2620:100:6021:1::a27d:4101\n",
            "Connecting to www.dropbox.com (www.dropbox.com)|162.125.65.1|:443... connected.\n",
            "HTTP request sent, awaiting response... 301 Moved Permanently\n",
            "Location: /s/raw/ddkmtqz01jc024u/glove.6B.100d.txt [following]\n",
            "--2020-11-24 13:48:11--  https://www.dropbox.com/s/raw/ddkmtqz01jc024u/glove.6B.100d.txt\n",
            "Reusing existing connection to www.dropbox.com:443.\n",
            "HTTP request sent, awaiting response... 302 Found\n",
            "Location: https://uc6f4d48a686f2674df8cca60079.dl.dropboxusercontent.com/cd/0/inline/BDwzhOIkRSo56AaUOqQnSiTd4-GAQQpwTwjLmzWq5gkh_sA_6ngwNrwdSPcwz-hGwbJGmCrvh15soikvaMv5zoeJ7V4kbMn-_4elHpsYKHNFklkvmgeBZZ7bB_oSrtY0eLU/file# [following]\n",
            "--2020-11-24 13:48:12--  https://uc6f4d48a686f2674df8cca60079.dl.dropboxusercontent.com/cd/0/inline/BDwzhOIkRSo56AaUOqQnSiTd4-GAQQpwTwjLmzWq5gkh_sA_6ngwNrwdSPcwz-hGwbJGmCrvh15soikvaMv5zoeJ7V4kbMn-_4elHpsYKHNFklkvmgeBZZ7bB_oSrtY0eLU/file\n",
            "Resolving uc6f4d48a686f2674df8cca60079.dl.dropboxusercontent.com (uc6f4d48a686f2674df8cca60079.dl.dropboxusercontent.com)... 162.125.67.15, 2620:100:6021:15::a27d:410f\n",
            "Connecting to uc6f4d48a686f2674df8cca60079.dl.dropboxusercontent.com (uc6f4d48a686f2674df8cca60079.dl.dropboxusercontent.com)|162.125.67.15|:443... connected.\n",
            "HTTP request sent, awaiting response... 200 OK\n",
            "Length: 347116733 (331M) [text/plain]\n",
            "Saving to: ‘glove.6B.100d.txt’\n",
            "\n",
            "glove.6B.100d.txt   100%[===================>] 331.04M  28.9MB/s    in 12s     \n",
            "\n",
            "2020-11-24 13:48:25 (26.6 MB/s) - ‘glove.6B.100d.txt’ saved [347116733/347116733]\n",
            "\n"
          ],
          "name": "stdout"
        }
      ]
    },
    {
      "cell_type": "markdown",
      "metadata": {
        "id": "vmGWTdRmKRph"
      },
      "source": [
        "### <font color='blue'>**Loading data**</font>"
      ]
    },
    {
      "cell_type": "code",
      "metadata": {
        "id": "6KHw1l6QREOD"
      },
      "source": [
        "import matplotlib.pyplot as plt\n",
        "%matplotlib inline\n",
        "# import seaborn as sns\n",
        "import pandas as pd\n",
        "import re\n",
        "import tensorflow as tf\n",
        "from tensorflow.keras.layers import Embedding, LSTM, Dense,Concatenate,TimeDistributed,Masking,GRU\n",
        "from tensorflow.keras.models import Model\n",
        "from tensorflow.keras.preprocessing.text import Tokenizer\n",
        "from tensorflow.keras.preprocessing.sequence import pad_sequences\n",
        "\n",
        "import numpy as np"
      ],
      "execution_count": 5,
      "outputs": []
    },
    {
      "cell_type": "code",
      "metadata": {
        "id": "9QqElB_nKZos",
        "colab": {
          "base_uri": "https://localhost:8080/",
          "height": 207
        },
        "outputId": "152cfaa6-d53f-47a2-d964-790692baf175"
      },
      "source": [
        "with open('ita.txt', 'r', encoding=\"utf8\") as f:\n",
        "    eng=[]\n",
        "    ita=[]\n",
        "    for i in f.readlines():\n",
        "        eng.append(i.split(\"\\t\")[0])\n",
        "        ita.append(i.split(\"\\t\")[1])\n",
        "data = pd.DataFrame(data=list(zip(eng, ita)), columns=['english','italian'])\n",
        "print(data.shape)\n",
        "data.head()"
      ],
      "execution_count": 6,
      "outputs": [
        {
          "output_type": "stream",
          "text": [
            "(343813, 2)\n"
          ],
          "name": "stdout"
        },
        {
          "output_type": "execute_result",
          "data": {
            "text/html": [
              "<div>\n",
              "<style scoped>\n",
              "    .dataframe tbody tr th:only-of-type {\n",
              "        vertical-align: middle;\n",
              "    }\n",
              "\n",
              "    .dataframe tbody tr th {\n",
              "        vertical-align: top;\n",
              "    }\n",
              "\n",
              "    .dataframe thead th {\n",
              "        text-align: right;\n",
              "    }\n",
              "</style>\n",
              "<table border=\"1\" class=\"dataframe\">\n",
              "  <thead>\n",
              "    <tr style=\"text-align: right;\">\n",
              "      <th></th>\n",
              "      <th>english</th>\n",
              "      <th>italian</th>\n",
              "    </tr>\n",
              "  </thead>\n",
              "  <tbody>\n",
              "    <tr>\n",
              "      <th>0</th>\n",
              "      <td>Hi.</td>\n",
              "      <td>Ciao!</td>\n",
              "    </tr>\n",
              "    <tr>\n",
              "      <th>1</th>\n",
              "      <td>Run!</td>\n",
              "      <td>Corri!</td>\n",
              "    </tr>\n",
              "    <tr>\n",
              "      <th>2</th>\n",
              "      <td>Run!</td>\n",
              "      <td>Corra!</td>\n",
              "    </tr>\n",
              "    <tr>\n",
              "      <th>3</th>\n",
              "      <td>Run!</td>\n",
              "      <td>Correte!</td>\n",
              "    </tr>\n",
              "    <tr>\n",
              "      <th>4</th>\n",
              "      <td>Who?</td>\n",
              "      <td>Chi?</td>\n",
              "    </tr>\n",
              "  </tbody>\n",
              "</table>\n",
              "</div>"
            ],
            "text/plain": [
              "  english   italian\n",
              "0     Hi.     Ciao!\n",
              "1    Run!    Corri!\n",
              "2    Run!    Corra!\n",
              "3    Run!  Correte!\n",
              "4    Who?      Chi?"
            ]
          },
          "metadata": {
            "tags": []
          },
          "execution_count": 6
        }
      ]
    },
    {
      "cell_type": "code",
      "metadata": {
        "id": "XnDyE0ljbYor",
        "colab": {
          "base_uri": "https://localhost:8080/",
          "height": 191
        },
        "outputId": "832c51f1-d7df-45cb-d222-07be36ddb3b0"
      },
      "source": [
        "def decontractions(phrase):\n",
        "    # ref: https://stackoverflow.com/questions/19790188/expanding-english-language-contractions-in-python/47091490#47091490\"\"\"\n",
        "    # specific\n",
        "    phrase = re.sub(r\"won\\'t\", \"will not\", phrase)\n",
        "    phrase = re.sub(r\"can\\'t\", \"can not\", phrase)\n",
        "    phrase = re.sub(r\"won\\’t\", \"will not\", phrase)\n",
        "    phrase = re.sub(r\"can\\’t\", \"can not\", phrase)\n",
        "\n",
        "    # general\n",
        "    phrase = re.sub(r\"n\\'t\", \" not\", phrase)\n",
        "    phrase = re.sub(r\"\\'re\", \" are\", phrase)\n",
        "    phrase = re.sub(r\"\\'s\", \" is\", phrase)\n",
        "    phrase = re.sub(r\"\\'d\", \" would\", phrase)\n",
        "    phrase = re.sub(r\"\\'ll\", \" will\", phrase)\n",
        "    phrase = re.sub(r\"\\'t\", \" not\", phrase)\n",
        "    phrase = re.sub(r\"\\'ve\", \" have\", phrase)\n",
        "    phrase = re.sub(r\"\\'m\", \" am\", phrase)\n",
        "\n",
        "    phrase = re.sub(r\"n\\’t\", \" not\", phrase)\n",
        "    phrase = re.sub(r\"\\’re\", \" are\", phrase)\n",
        "    phrase = re.sub(r\"\\’s\", \" is\", phrase)\n",
        "    phrase = re.sub(r\"\\’d\", \" would\", phrase)\n",
        "    phrase = re.sub(r\"\\’ll\", \" will\", phrase)\n",
        "    phrase = re.sub(r\"\\’t\", \" not\", phrase)\n",
        "    phrase = re.sub(r\"\\’ve\", \" have\", phrase)\n",
        "    phrase = re.sub(r\"\\’m\", \" am\", phrase)\n",
        "\n",
        "    return phrase\n",
        "\n",
        "def preprocess(text):\n",
        "\n",
        "    text = text.lower()\n",
        "    text = decontractions(text)\n",
        "    text = re.sub('[^A-Za-z0-9 ]+', '', text)\n",
        "    return text\n",
        "\n",
        "def preprocess_ita(text):\n",
        "\n",
        "    \n",
        "    text = text.lower()\n",
        "    text = decontractions(text)\n",
        "    text = re.sub('[$)\\?\"’.°!;\\'€%:,(/]', '', text)\n",
        "    text = re.sub('\\u200b', ' ', text)\n",
        "    text = re.sub('\\xa0', ' ', text)\n",
        "    text = re.sub('-', ' ', text)\n",
        "    return text\n",
        "\n",
        "\n",
        "data['english'] = data['english'].apply(preprocess)\n",
        "data['italian'] = data['italian'].apply(preprocess_ita)\n",
        "data.head()"
      ],
      "execution_count": 7,
      "outputs": [
        {
          "output_type": "execute_result",
          "data": {
            "text/html": [
              "<div>\n",
              "<style scoped>\n",
              "    .dataframe tbody tr th:only-of-type {\n",
              "        vertical-align: middle;\n",
              "    }\n",
              "\n",
              "    .dataframe tbody tr th {\n",
              "        vertical-align: top;\n",
              "    }\n",
              "\n",
              "    .dataframe thead th {\n",
              "        text-align: right;\n",
              "    }\n",
              "</style>\n",
              "<table border=\"1\" class=\"dataframe\">\n",
              "  <thead>\n",
              "    <tr style=\"text-align: right;\">\n",
              "      <th></th>\n",
              "      <th>english</th>\n",
              "      <th>italian</th>\n",
              "    </tr>\n",
              "  </thead>\n",
              "  <tbody>\n",
              "    <tr>\n",
              "      <th>0</th>\n",
              "      <td>hi</td>\n",
              "      <td>ciao</td>\n",
              "    </tr>\n",
              "    <tr>\n",
              "      <th>1</th>\n",
              "      <td>run</td>\n",
              "      <td>corri</td>\n",
              "    </tr>\n",
              "    <tr>\n",
              "      <th>2</th>\n",
              "      <td>run</td>\n",
              "      <td>corra</td>\n",
              "    </tr>\n",
              "    <tr>\n",
              "      <th>3</th>\n",
              "      <td>run</td>\n",
              "      <td>correte</td>\n",
              "    </tr>\n",
              "    <tr>\n",
              "      <th>4</th>\n",
              "      <td>who</td>\n",
              "      <td>chi</td>\n",
              "    </tr>\n",
              "  </tbody>\n",
              "</table>\n",
              "</div>"
            ],
            "text/plain": [
              "  english  italian\n",
              "0      hi     ciao\n",
              "1     run    corri\n",
              "2     run    corra\n",
              "3     run  correte\n",
              "4     who      chi"
            ]
          },
          "metadata": {
            "tags": []
          },
          "execution_count": 7
        }
      ]
    },
    {
      "cell_type": "code",
      "metadata": {
        "id": "IypVGvYKREOL",
        "scrolled": true
      },
      "source": [
        "ita_lengths = data['italian'].str.split().apply(len)\n",
        "eng_lengths = data['english'].str.split().apply(len)"
      ],
      "execution_count": 8,
      "outputs": []
    },
    {
      "cell_type": "code",
      "metadata": {
        "id": "YOWJ9c5jREON",
        "colab": {
          "base_uri": "https://localhost:8080/"
        },
        "outputId": "9bb931c0-5105-42d8-8d09-29b5523b1975"
      },
      "source": [
        "for i in range(0,101,10):\n",
        "    print(i,np.percentile(ita_lengths, i))\n",
        "for i in range(90,101):\n",
        "    print(i,np.percentile(ita_lengths, i))\n",
        "for i in [99.1,99.2,99.3,99.4,99.5,99.6,99.7,99.8,99.9,100]:\n",
        "    print(i,np.percentile(ita_lengths, i))"
      ],
      "execution_count": 9,
      "outputs": [
        {
          "output_type": "stream",
          "text": [
            "0 1.0\n",
            "10 3.0\n",
            "20 4.0\n",
            "30 4.0\n",
            "40 5.0\n",
            "50 5.0\n",
            "60 6.0\n",
            "70 6.0\n",
            "80 7.0\n",
            "90 8.0\n",
            "100 92.0\n",
            "90 8.0\n",
            "91 8.0\n",
            "92 8.0\n",
            "93 9.0\n",
            "94 9.0\n",
            "95 9.0\n",
            "96 10.0\n",
            "97 10.0\n",
            "98 11.0\n",
            "99 12.0\n",
            "100 92.0\n",
            "99.1 12.0\n",
            "99.2 12.0\n",
            "99.3 13.0\n",
            "99.4 13.0\n",
            "99.5 13.0\n",
            "99.6 14.0\n",
            "99.7 15.0\n",
            "99.8 16.0\n",
            "99.9 20.0\n",
            "100 92.0\n"
          ],
          "name": "stdout"
        }
      ]
    },
    {
      "cell_type": "code",
      "metadata": {
        "id": "pGCOWtN1REOP",
        "colab": {
          "base_uri": "https://localhost:8080/"
        },
        "outputId": "076f8bef-da26-4de0-89e8-595a203741d9"
      },
      "source": [
        "for i in range(0,101,10):\n",
        "    print(i,np.percentile(eng_lengths, i))\n",
        "for i in range(90,101):\n",
        "    print(i,np.percentile(eng_lengths, i))\n",
        "for i in [99.1,99.2,99.3,99.4,99.5,99.6,99.7,99.8,99.9,100]:\n",
        "    print(i,np.percentile(eng_lengths, i))"
      ],
      "execution_count": 10,
      "outputs": [
        {
          "output_type": "stream",
          "text": [
            "0 1.0\n",
            "10 4.0\n",
            "20 4.0\n",
            "30 5.0\n",
            "40 5.0\n",
            "50 6.0\n",
            "60 6.0\n",
            "70 7.0\n",
            "80 7.0\n",
            "90 8.0\n",
            "100 101.0\n",
            "90 8.0\n",
            "91 9.0\n",
            "92 9.0\n",
            "93 9.0\n",
            "94 9.0\n",
            "95 9.0\n",
            "96 10.0\n",
            "97 10.0\n",
            "98 11.0\n",
            "99 12.0\n",
            "100 101.0\n",
            "99.1 12.0\n",
            "99.2 13.0\n",
            "99.3 13.0\n",
            "99.4 13.0\n",
            "99.5 14.0\n",
            "99.6 14.0\n",
            "99.7 15.0\n",
            "99.8 16.0\n",
            "99.9 21.18800000002375\n",
            "100 101.0\n"
          ],
          "name": "stdout"
        }
      ]
    },
    {
      "cell_type": "markdown",
      "metadata": {
        "id": "u-6pcMyuREOR"
      },
      "source": [
        "> <font color=\"blue\"><b>If you observe the values, 99.9% of the data points are having length &lt; 20, so select the sentences that have words &lt; 20 </b> </font>\n",
        "<br>\n",
        "<br>\n",
        "> <font color=\"green\"><b>Inorder to do the teacher forcing while training of seq-seq models, lets create two new columns, one with  &lt;start&gt; token at begining of the sentence and other column with &lt;end&gt; token at the end of the sequence</b></font>"
      ]
    },
    {
      "cell_type": "code",
      "metadata": {
        "id": "frL1wvLwSz7_",
        "colab": {
          "base_uri": "https://localhost:8080/",
          "height": 191
        },
        "outputId": "b7cbb65a-d5e9-4fcf-d1a7-dc775dd3778c"
      },
      "source": [
        "data['italian_len'] = data['italian'].str.split().apply(len)\n",
        "data = data[data['italian_len'] < 20]\n",
        "\n",
        "data['english_len'] = data['english'].str.split().apply(len)\n",
        "data = data[data['english_len'] < 20]\n",
        "\n",
        "data['english_inp'] = '<start> ' + data['english'].astype(str)\n",
        "data['english_out'] = data['english'].astype(str) + ' <end>'\n",
        "\n",
        "data = data.drop(['english','italian_len','english_len'], axis=1)\n",
        "# only for the first sentance add a toke <end> so that we will have <end> in tokenizer\n",
        "data.head()"
      ],
      "execution_count": 11,
      "outputs": [
        {
          "output_type": "execute_result",
          "data": {
            "text/html": [
              "<div>\n",
              "<style scoped>\n",
              "    .dataframe tbody tr th:only-of-type {\n",
              "        vertical-align: middle;\n",
              "    }\n",
              "\n",
              "    .dataframe tbody tr th {\n",
              "        vertical-align: top;\n",
              "    }\n",
              "\n",
              "    .dataframe thead th {\n",
              "        text-align: right;\n",
              "    }\n",
              "</style>\n",
              "<table border=\"1\" class=\"dataframe\">\n",
              "  <thead>\n",
              "    <tr style=\"text-align: right;\">\n",
              "      <th></th>\n",
              "      <th>italian</th>\n",
              "      <th>english_inp</th>\n",
              "      <th>english_out</th>\n",
              "    </tr>\n",
              "  </thead>\n",
              "  <tbody>\n",
              "    <tr>\n",
              "      <th>0</th>\n",
              "      <td>ciao</td>\n",
              "      <td>&lt;start&gt; hi</td>\n",
              "      <td>hi &lt;end&gt;</td>\n",
              "    </tr>\n",
              "    <tr>\n",
              "      <th>1</th>\n",
              "      <td>corri</td>\n",
              "      <td>&lt;start&gt; run</td>\n",
              "      <td>run &lt;end&gt;</td>\n",
              "    </tr>\n",
              "    <tr>\n",
              "      <th>2</th>\n",
              "      <td>corra</td>\n",
              "      <td>&lt;start&gt; run</td>\n",
              "      <td>run &lt;end&gt;</td>\n",
              "    </tr>\n",
              "    <tr>\n",
              "      <th>3</th>\n",
              "      <td>correte</td>\n",
              "      <td>&lt;start&gt; run</td>\n",
              "      <td>run &lt;end&gt;</td>\n",
              "    </tr>\n",
              "    <tr>\n",
              "      <th>4</th>\n",
              "      <td>chi</td>\n",
              "      <td>&lt;start&gt; who</td>\n",
              "      <td>who &lt;end&gt;</td>\n",
              "    </tr>\n",
              "  </tbody>\n",
              "</table>\n",
              "</div>"
            ],
            "text/plain": [
              "   italian  english_inp english_out\n",
              "0     ciao   <start> hi    hi <end>\n",
              "1    corri  <start> run   run <end>\n",
              "2    corra  <start> run   run <end>\n",
              "3  correte  <start> run   run <end>\n",
              "4      chi  <start> who   who <end>"
            ]
          },
          "metadata": {
            "tags": []
          },
          "execution_count": 11
        }
      ]
    },
    {
      "cell_type": "code",
      "metadata": {
        "id": "xZX5xAcmxqPo",
        "colab": {
          "base_uri": "https://localhost:8080/",
          "height": 335
        },
        "outputId": "a4677794-625d-4ac7-a60f-d94b3a39325c"
      },
      "source": [
        "data.sample(10)"
      ],
      "execution_count": 12,
      "outputs": [
        {
          "output_type": "execute_result",
          "data": {
            "text/html": [
              "<div>\n",
              "<style scoped>\n",
              "    .dataframe tbody tr th:only-of-type {\n",
              "        vertical-align: middle;\n",
              "    }\n",
              "\n",
              "    .dataframe tbody tr th {\n",
              "        vertical-align: top;\n",
              "    }\n",
              "\n",
              "    .dataframe thead th {\n",
              "        text-align: right;\n",
              "    }\n",
              "</style>\n",
              "<table border=\"1\" class=\"dataframe\">\n",
              "  <thead>\n",
              "    <tr style=\"text-align: right;\">\n",
              "      <th></th>\n",
              "      <th>italian</th>\n",
              "      <th>english_inp</th>\n",
              "      <th>english_out</th>\n",
              "    </tr>\n",
              "  </thead>\n",
              "  <tbody>\n",
              "    <tr>\n",
              "      <th>147889</th>\n",
              "      <td>io devo cambiarmi i vestiti</td>\n",
              "      <td>&lt;start&gt; i have to change clothes</td>\n",
              "      <td>i have to change clothes &lt;end&gt;</td>\n",
              "    </tr>\n",
              "    <tr>\n",
              "      <th>316873</th>\n",
              "      <td>tom è stato assegnato ad una famiglia adottiva</td>\n",
              "      <td>&lt;start&gt; tom has been placed with a foster family</td>\n",
              "      <td>tom has been placed with a foster family &lt;end&gt;</td>\n",
              "    </tr>\n",
              "    <tr>\n",
              "      <th>206185</th>\n",
              "      <td>lo potrebbe ripetere per piacere</td>\n",
              "      <td>&lt;start&gt; could you please repeat that</td>\n",
              "      <td>could you please repeat that &lt;end&gt;</td>\n",
              "    </tr>\n",
              "    <tr>\n",
              "      <th>68499</th>\n",
              "      <td>avete avuto una lunga giornata</td>\n",
              "      <td>&lt;start&gt; you had a long day</td>\n",
              "      <td>you had a long day &lt;end&gt;</td>\n",
              "    </tr>\n",
              "    <tr>\n",
              "      <th>134501</th>\n",
              "      <td>io sono la nuova segretaria di tom</td>\n",
              "      <td>&lt;start&gt; i am tom is new secretary</td>\n",
              "      <td>i am tom is new secretary &lt;end&gt;</td>\n",
              "    </tr>\n",
              "    <tr>\n",
              "      <th>274602</th>\n",
              "      <td>tom non sa molto di musica</td>\n",
              "      <td>&lt;start&gt; tom does not know much about music</td>\n",
              "      <td>tom does not know much about music &lt;end&gt;</td>\n",
              "    </tr>\n",
              "    <tr>\n",
              "      <th>311397</th>\n",
              "      <td>annoterò il tuo nome e il tuo indirizzo</td>\n",
              "      <td>&lt;start&gt; i will write down your name and address</td>\n",
              "      <td>i will write down your name and address &lt;end&gt;</td>\n",
              "    </tr>\n",
              "    <tr>\n",
              "      <th>82748</th>\n",
              "      <td>a voi non è mai piaciuto tom</td>\n",
              "      <td>&lt;start&gt; you never liked tom</td>\n",
              "      <td>you never liked tom &lt;end&gt;</td>\n",
              "    </tr>\n",
              "    <tr>\n",
              "      <th>32224</th>\n",
              "      <td>voi dormivate</td>\n",
              "      <td>&lt;start&gt; you were asleep</td>\n",
              "      <td>you were asleep &lt;end&gt;</td>\n",
              "    </tr>\n",
              "    <tr>\n",
              "      <th>271256</th>\n",
              "      <td>io non lho ancora visto a boston</td>\n",
              "      <td>&lt;start&gt; i have not seen that in boston yet</td>\n",
              "      <td>i have not seen that in boston yet &lt;end&gt;</td>\n",
              "    </tr>\n",
              "  </tbody>\n",
              "</table>\n",
              "</div>"
            ],
            "text/plain": [
              "                                               italian  ...                                     english_out\n",
              "147889                     io devo cambiarmi i vestiti  ...                  i have to change clothes <end>\n",
              "316873  tom è stato assegnato ad una famiglia adottiva  ...  tom has been placed with a foster family <end>\n",
              "206185                lo potrebbe ripetere per piacere  ...              could you please repeat that <end>\n",
              "68499                   avete avuto una lunga giornata  ...                        you had a long day <end>\n",
              "134501              io sono la nuova segretaria di tom  ...                 i am tom is new secretary <end>\n",
              "274602                      tom non sa molto di musica  ...        tom does not know much about music <end>\n",
              "311397         annoterò il tuo nome e il tuo indirizzo  ...   i will write down your name and address <end>\n",
              "82748                     a voi non è mai piaciuto tom  ...                       you never liked tom <end>\n",
              "32224                                    voi dormivate  ...                           you were asleep <end>\n",
              "271256                io non lho ancora visto a boston  ...        i have not seen that in boston yet <end>\n",
              "\n",
              "[10 rows x 3 columns]"
            ]
          },
          "metadata": {
            "tags": []
          },
          "execution_count": 12
        }
      ]
    },
    {
      "cell_type": "code",
      "metadata": {
        "id": "qja7kkVYeYC-",
        "colab": {
          "base_uri": "https://localhost:8080/"
        },
        "outputId": "252b5313-6c29-4e48-a073-007a0a9ebc82"
      },
      "source": [
        "data.shape"
      ],
      "execution_count": 13,
      "outputs": [
        {
          "output_type": "execute_result",
          "data": {
            "text/plain": [
              "(343388, 3)"
            ]
          },
          "metadata": {
            "tags": []
          },
          "execution_count": 13
        }
      ]
    },
    {
      "cell_type": "markdown",
      "metadata": {
        "id": "mNkmddZ1REOW"
      },
      "source": [
        "### Getting train and test "
      ]
    },
    {
      "cell_type": "code",
      "metadata": {
        "id": "UG50P52vhMu8"
      },
      "source": [
        "from sklearn.model_selection import train_test_split\n",
        "train, validation = train_test_split(data, test_size=0.2)"
      ],
      "execution_count": 14,
      "outputs": []
    },
    {
      "cell_type": "code",
      "metadata": {
        "id": "9mp9dzm1hwv-",
        "colab": {
          "base_uri": "https://localhost:8080/"
        },
        "outputId": "bcc610d7-309d-4d49-c6bb-566282ba29a6"
      },
      "source": [
        "print(train.shape, validation.shape)\n",
        "# for one sentence we will be adding <end> token so that the tokanizer learns the word <end>\n",
        "# with this we can use only one tokenizer for both encoder output and decoder output\n",
        "train.iloc[0]['english_inp']= str(train.iloc[0]['english_inp'])+' <end>'\n",
        "train.iloc[0]['english_out']= str(train.iloc[0]['english_out'])+' <end>'"
      ],
      "execution_count": 15,
      "outputs": [
        {
          "output_type": "stream",
          "text": [
            "(274710, 3) (68678, 3)\n"
          ],
          "name": "stdout"
        }
      ]
    },
    {
      "cell_type": "code",
      "metadata": {
        "id": "Su69ZPzTsxmn",
        "colab": {
          "base_uri": "https://localhost:8080/",
          "height": 191
        },
        "outputId": "cbbbc907-15b1-4cdf-9ae7-c5d9f2b6ddac"
      },
      "source": [
        "train.head()"
      ],
      "execution_count": 16,
      "outputs": [
        {
          "output_type": "execute_result",
          "data": {
            "text/html": [
              "<div>\n",
              "<style scoped>\n",
              "    .dataframe tbody tr th:only-of-type {\n",
              "        vertical-align: middle;\n",
              "    }\n",
              "\n",
              "    .dataframe tbody tr th {\n",
              "        vertical-align: top;\n",
              "    }\n",
              "\n",
              "    .dataframe thead th {\n",
              "        text-align: right;\n",
              "    }\n",
              "</style>\n",
              "<table border=\"1\" class=\"dataframe\">\n",
              "  <thead>\n",
              "    <tr style=\"text-align: right;\">\n",
              "      <th></th>\n",
              "      <th>italian</th>\n",
              "      <th>english_inp</th>\n",
              "      <th>english_out</th>\n",
              "    </tr>\n",
              "  </thead>\n",
              "  <tbody>\n",
              "    <tr>\n",
              "      <th>73924</th>\n",
              "      <td>saltai la colazione</td>\n",
              "      <td>&lt;start&gt; i skipped breakfast &lt;end&gt;</td>\n",
              "      <td>i skipped breakfast &lt;end&gt; &lt;end&gt;</td>\n",
              "    </tr>\n",
              "    <tr>\n",
              "      <th>219791</th>\n",
              "      <td>lei deve ancora pagarla</td>\n",
              "      <td>&lt;start&gt; you still have to pay for it</td>\n",
              "      <td>you still have to pay for it &lt;end&gt;</td>\n",
              "    </tr>\n",
              "    <tr>\n",
              "      <th>202778</th>\n",
              "      <td>noi non abbiamo fatto alcuna domanda</td>\n",
              "      <td>&lt;start&gt; we did not ask any questions</td>\n",
              "      <td>we did not ask any questions &lt;end&gt;</td>\n",
              "    </tr>\n",
              "    <tr>\n",
              "      <th>156247</th>\n",
              "      <td>accettiamo la vostra sfida</td>\n",
              "      <td>&lt;start&gt; we accept your challenge</td>\n",
              "      <td>we accept your challenge &lt;end&gt;</td>\n",
              "    </tr>\n",
              "    <tr>\n",
              "      <th>26665</th>\n",
              "      <td>ho contato su di lui</td>\n",
              "      <td>&lt;start&gt; i relied on him</td>\n",
              "      <td>i relied on him &lt;end&gt;</td>\n",
              "    </tr>\n",
              "  </tbody>\n",
              "</table>\n",
              "</div>"
            ],
            "text/plain": [
              "                                     italian  ...                         english_out\n",
              "73924                    saltai la colazione  ...     i skipped breakfast <end> <end>\n",
              "219791               lei deve ancora pagarla  ...  you still have to pay for it <end>\n",
              "202778  noi non abbiamo fatto alcuna domanda  ...  we did not ask any questions <end>\n",
              "156247            accettiamo la vostra sfida  ...      we accept your challenge <end>\n",
              "26665                   ho contato su di lui  ...               i relied on him <end>\n",
              "\n",
              "[5 rows x 3 columns]"
            ]
          },
          "metadata": {
            "tags": []
          },
          "execution_count": 16
        }
      ]
    },
    {
      "cell_type": "code",
      "metadata": {
        "id": "CGqQDR8FWV3D",
        "colab": {
          "base_uri": "https://localhost:8080/",
          "height": 191
        },
        "outputId": "a07ab60a-87a4-49b2-b6ce-8e35f0c38766"
      },
      "source": [
        "validation.head()"
      ],
      "execution_count": 17,
      "outputs": [
        {
          "output_type": "execute_result",
          "data": {
            "text/html": [
              "<div>\n",
              "<style scoped>\n",
              "    .dataframe tbody tr th:only-of-type {\n",
              "        vertical-align: middle;\n",
              "    }\n",
              "\n",
              "    .dataframe tbody tr th {\n",
              "        vertical-align: top;\n",
              "    }\n",
              "\n",
              "    .dataframe thead th {\n",
              "        text-align: right;\n",
              "    }\n",
              "</style>\n",
              "<table border=\"1\" class=\"dataframe\">\n",
              "  <thead>\n",
              "    <tr style=\"text-align: right;\">\n",
              "      <th></th>\n",
              "      <th>italian</th>\n",
              "      <th>english_inp</th>\n",
              "      <th>english_out</th>\n",
              "    </tr>\n",
              "  </thead>\n",
              "  <tbody>\n",
              "    <tr>\n",
              "      <th>86361</th>\n",
              "      <td>lho già chiamato</td>\n",
              "      <td>&lt;start&gt; i already called him</td>\n",
              "      <td>i already called him &lt;end&gt;</td>\n",
              "    </tr>\n",
              "    <tr>\n",
              "      <th>322508</th>\n",
              "      <td>speriamo che tutto vada meglio domani</td>\n",
              "      <td>&lt;start&gt; let is hope everything gets better tom...</td>\n",
              "      <td>let is hope everything gets better tomorrow &lt;end&gt;</td>\n",
              "    </tr>\n",
              "    <tr>\n",
              "      <th>52449</th>\n",
              "      <td>tom è semplice</td>\n",
              "      <td>&lt;start&gt; tom is unaffected</td>\n",
              "      <td>tom is unaffected &lt;end&gt;</td>\n",
              "    </tr>\n",
              "    <tr>\n",
              "      <th>99985</th>\n",
              "      <td>è già suonata la campanella</td>\n",
              "      <td>&lt;start&gt; has the bell rung yet</td>\n",
              "      <td>has the bell rung yet &lt;end&gt;</td>\n",
              "    </tr>\n",
              "    <tr>\n",
              "      <th>57206</th>\n",
              "      <td>non mi dia quella</td>\n",
              "      <td>&lt;start&gt; do not give me that</td>\n",
              "      <td>do not give me that &lt;end&gt;</td>\n",
              "    </tr>\n",
              "  </tbody>\n",
              "</table>\n",
              "</div>"
            ],
            "text/plain": [
              "                                      italian  ...                                        english_out\n",
              "86361                        lho già chiamato  ...                         i already called him <end>\n",
              "322508  speriamo che tutto vada meglio domani  ...  let is hope everything gets better tomorrow <end>\n",
              "52449                          tom è semplice  ...                            tom is unaffected <end>\n",
              "99985             è già suonata la campanella  ...                        has the bell rung yet <end>\n",
              "57206                       non mi dia quella  ...                          do not give me that <end>\n",
              "\n",
              "[5 rows x 3 columns]"
            ]
          },
          "metadata": {
            "tags": []
          },
          "execution_count": 17
        }
      ]
    },
    {
      "cell_type": "code",
      "metadata": {
        "id": "clrwEw6veYDT"
      },
      "source": [
        "\n",
        "import seaborn as sns"
      ],
      "execution_count": 18,
      "outputs": []
    },
    {
      "cell_type": "code",
      "metadata": {
        "id": "cpuPONunjYKj",
        "colab": {
          "base_uri": "https://localhost:8080/",
          "height": 545
        },
        "outputId": "e149aec0-8281-4a04-fe32-b0fbe52480c4"
      },
      "source": [
        "ita_lengths = train['italian'].str.split().apply(len)\n",
        "eng_lengths = train['english_inp'].str.split().apply(len)\n",
        "import seaborn as sns\n",
        "sns.kdeplot(ita_lengths)\n",
        "plt.show()\n",
        "sns.kdeplot(eng_lengths)\n",
        "plt.show()"
      ],
      "execution_count": 19,
      "outputs": [
        {
          "output_type": "display_data",
          "data": {
            "image/png": "[encoded data removed]",
            "text/plain": [
              "<Figure size 432x288 with 1 Axes>"
            ]
          },
          "metadata": {
            "tags": [],
            "needs_background": "light"
          }
        },
        {
          "output_type": "display_data",
          "data": {
            "image/png": "[encoded data removed]",
            "text/plain": [
              "<Figure size 432x288 with 1 Axes>"
            ]
          },
          "metadata": {
            "tags": [],
            "needs_background": "light"
          }
        }
      ]
    },
    {
      "cell_type": "markdown",
      "metadata": {
        "id": "msOiI69-REOi"
      },
      "source": [
        "### Creating Tokenizer on the train data and learning vocabulary"
      ]
    },
    {
      "cell_type": "markdown",
      "metadata": {
        "id": "T7xUCLf6REOi"
      },
      "source": [
        "> Note that we are fitting the tokenizer only on train data and check the filters for english, we need to remove symbols &lt; and &gt;"
      ]
    },
    {
      "cell_type": "code",
      "metadata": {
        "id": "GPa0ldDWkav8"
      },
      "source": [
        "tknizer_ita = Tokenizer()\n",
        "tknizer_ita.fit_on_texts(train['italian'].values)\n",
        "tknizer_eng = Tokenizer(filters='!\"#$%&()*+,-./:;=?@[\\\\]^_`{|}~\\t\\n')\n",
        "tknizer_eng.fit_on_texts(train['english_inp'].values)"
      ],
      "execution_count": 20,
      "outputs": []
    },
    {
      "cell_type": "code",
      "metadata": {
        "id": "q33o6-vveYDg"
      },
      "source": [
        ""
      ],
      "execution_count": 20,
      "outputs": []
    },
    {
      "cell_type": "code",
      "metadata": {
        "id": "qpQ5iIxmeYDj",
        "colab": {
          "base_uri": "https://localhost:8080/"
        },
        "outputId": "16c8dc18-838f-443b-81d8-31bcec13a6c4"
      },
      "source": [
        "len(tknizer_eng.word_index.keys())"
      ],
      "execution_count": 21,
      "outputs": [
        {
          "output_type": "execute_result",
          "data": {
            "text/plain": [
              "12838"
            ]
          },
          "metadata": {
            "tags": []
          },
          "execution_count": 21
        }
      ]
    },
    {
      "cell_type": "code",
      "metadata": {
        "id": "hBb0yEYlCynz",
        "colab": {
          "base_uri": "https://localhost:8080/"
        },
        "outputId": "793446fc-0461-460e-b73c-67946ccae38d"
      },
      "source": [
        "vocab_size_eng=len(tknizer_eng.word_index.keys())\n",
        "print(vocab_size_eng)\n",
        "vocab_size_ita=len(tknizer_ita.word_index.keys())\n",
        "print(vocab_size_ita)"
      ],
      "execution_count": 22,
      "outputs": [
        {
          "output_type": "stream",
          "text": [
            "12838\n",
            "26240\n"
          ],
          "name": "stdout"
        }
      ]
    },
    {
      "cell_type": "code",
      "metadata": {
        "id": "nm1uoAC-Nwuk",
        "colab": {
          "base_uri": "https://localhost:8080/"
        },
        "outputId": "6f3d4cb5-1d2b-46c1-aa0b-301c2ba99780"
      },
      "source": [
        "tknizer_eng.word_index['<start>'], tknizer_eng.word_index['<end>']"
      ],
      "execution_count": 23,
      "outputs": [
        {
          "output_type": "execute_result",
          "data": {
            "text/plain": [
              "(1, 10137)"
            ]
          },
          "metadata": {
            "tags": []
          },
          "execution_count": 23
        }
      ]
    },
    {
      "cell_type": "code",
      "metadata": {
        "id": "1GUnVuHWeYDy",
        "colab": {
          "base_uri": "https://localhost:8080/"
        },
        "outputId": "fe7527ef-709e-4264-a262-47ca8830c93d"
      },
      "source": [
        "data.shape"
      ],
      "execution_count": 24,
      "outputs": [
        {
          "output_type": "execute_result",
          "data": {
            "text/plain": [
              "(343388, 3)"
            ]
          },
          "metadata": {
            "tags": []
          },
          "execution_count": 24
        }
      ]
    },
    {
      "cell_type": "code",
      "metadata": {
        "id": "qE-Tafb6wCuM",
        "colab": {
          "base_uri": "https://localhost:8080/"
        },
        "outputId": "b0dabf2e-0d2a-4d93-88c2-adffb7ffce61"
      },
      "source": [
        "def grader_1(data):\n",
        "    shape_value = data.shape ==(340044, 3)\n",
        "    tknizer = Tokenizer(char_level=True)\n",
        "    tknizer.fit_on_texts(data['italian'].values)\n",
        "    ita_chars = tknizer.word_index.keys()\n",
        "    diff_chars_ita = set(ita_chars)-set([' ', 't', 'a', 'o', 'r', 'e', 's', 'i', 'n', 'l', 'c', 'm', 'u', 'd', 'p', 'v', 'h', 'g', 'b', 'f', 'è', 'q', 'z', 'ò', 'à', 'y', 'é', 'ì', 'ù', 'k', 'w', '0', 'j', '1', '3', '2', 'x', '9', '5', '8', '4', '6', '7', 'á', 'ñ', 'ê', 'ü', 'ō', 'î', 'ö', 'ú', 'º'])\n",
        "    tknizer = Tokenizer(char_level=True)\n",
        "    tknizer.fit_on_texts(data['english_inp'].values)\n",
        "    eng_chars = tknizer.word_index.keys()\n",
        "    diff_chars_eng = set(eng_chars)-set(['<','>',' ', 'e', 'o', 't', 'i', 'a', 'n', 's', 'h', 'r', 'l', 'd', 'm', 'y', 'u', 'w', 'g', 'c', 'p', 'f', 'b', 'k', 'v', 'j', 'x', 'z', 'q', '0', '1', '3', '2', '9', '5', '8', '6', '4', '7'])\n",
        "    unique_char_value = (len(diff_chars_eng)==0) and (len(diff_chars_ita)==0)\n",
        "    return unique_char_value and shape_value\n",
        "\n",
        "grader_1(data)"
      ],
      "execution_count": 25,
      "outputs": [
        {
          "output_type": "execute_result",
          "data": {
            "text/plain": [
              "False"
            ]
          },
          "metadata": {
            "tags": []
          },
          "execution_count": 25
        }
      ]
    },
    {
      "cell_type": "markdown",
      "metadata": {
        "id": "xT2R3D6MREOp"
      },
      "source": [
        "### Creating embeddings for english sentences"
      ]
    },
    {
      "cell_type": "code",
      "metadata": {
        "id": "olaKF9rb_zz1"
      },
      "source": [
        "embeddings_index = dict()\n",
        "f = open('glove.6B.100d.txt')\n",
        "for line in f:\n",
        "    values = line.split()\n",
        "    word = values[0]\n",
        "    coefs = np.asarray(values[1:], dtype='float32')\n",
        "    embeddings_index[word] = coefs\n",
        "f.close()\n",
        "\n",
        "embedding_matrix = np.zeros((vocab_size_eng+1, 100))\n",
        "for word, i in tknizer_eng.word_index.items():\n",
        "    embedding_vector = embeddings_index.get(word)\n",
        "    if embedding_vector is not None:\n",
        "        embedding_matrix[i] = embedding_vector"
      ],
      "execution_count": 26,
      "outputs": []
    },
    {
      "cell_type": "code",
      "metadata": {
        "id": "duLpLjr7thm1"
      },
      "source": [
        ""
      ],
      "execution_count": 26,
      "outputs": []
    },
    {
      "cell_type": "code",
      "metadata": {
        "id": "t84vq_VIx42a"
      },
      "source": [
        "class Dataset:\n",
        "    def __init__(self, data, tknizer_ita, tknizer_eng, max_len):\n",
        "        self.encoder_inps = data['italian'].values\n",
        "        self.decoder_inps = data['english_inp'].values\n",
        "        self.decoder_outs = data['english_out'].values\n",
        "        self.tknizer_eng = tknizer_eng\n",
        "        self.tknizer_ita = tknizer_ita\n",
        "        self.max_len = max_len\n",
        "\n",
        "    def __getitem__(self, i):\n",
        "        self.encoder_seq = self.tknizer_ita.texts_to_sequences([self.encoder_inps[i]]) # need to pass list of values\n",
        "        self.decoder_inp_seq = self.tknizer_eng.texts_to_sequences([self.decoder_inps[i]])\n",
        "        self.decoder_out_seq = self.tknizer_eng.texts_to_sequences([self.decoder_outs[i]])\n",
        "\n",
        "        self.encoder_seq = pad_sequences(self.encoder_seq, maxlen=self.max_len, dtype='int32', padding='post')\n",
        "        self.decoder_inp_seq = pad_sequences(self.decoder_inp_seq, maxlen=self.max_len, dtype='int32', padding='post')\n",
        "        self.decoder_out_seq = pad_sequences(self.decoder_out_seq, maxlen=self.max_len, dtype='int32', padding='post')\n",
        "        return self.encoder_seq, self.decoder_inp_seq, self.decoder_out_seq\n",
        "\n",
        "    def __len__(self): # your model.fit_gen requires this function\n",
        "        return len(self.encoder_inps)\n",
        "\n",
        "    \n",
        "class Dataloder(tf.keras.utils.Sequence):    \n",
        "    def __init__(self, dataset, batch_size=1):\n",
        "        self.dataset = dataset\n",
        "        self.batch_size = batch_size\n",
        "        self.indexes = np.arange(len(self.dataset.encoder_inps))\n",
        "\n",
        "\n",
        "    def __getitem__(self, i):\n",
        "        start = i * self.batch_size\n",
        "        stop = (i + 1) * self.batch_size\n",
        "        data = []\n",
        "        for j in range(start, stop):\n",
        "            data.append(self.dataset[j])\n",
        "\n",
        "        batch = [np.squeeze(np.stack(samples, axis=1), axis=0) for samples in zip(*data)]\n",
        "        # we are creating data like ([italian, english_inp], english_out) these are already converted into seq\n",
        "        return tuple([[batch[0],batch[1]],batch[2]])\n",
        "\n",
        "    def __len__(self):  # your model.fit_gen requires this function\n",
        "        return len(self.indexes) // self.batch_size\n",
        "\n",
        "    def on_epoch_end(self):\n",
        "        self.indexes = np.random.permutation(self.indexes)"
      ],
      "execution_count": 27,
      "outputs": []
    },
    {
      "cell_type": "code",
      "metadata": {
        "id": "U_osICwIsulX"
      },
      "source": [
        "init=tf.keras.initializers.HeNormal(\n",
        "    seed=None\n",
        ")"
      ],
      "execution_count": 28,
      "outputs": []
    },
    {
      "cell_type": "code",
      "metadata": {
        "id": "tuu2ypFSeYD9"
      },
      "source": [
        "class Encoder(tf.keras.Model):\n",
        "    def __init__(self,inp_vocab_size,embedding_size,lstm_size,input_length):\n",
        "        super().__init__()\n",
        "        self.inp_vocab_size=inp_vocab_size\n",
        "        self.embedding_size=embedding_size\n",
        "        self.lstm_size=lstm_size\n",
        "        self.input_length=input_length\n",
        "        self.lstm_output = 0\n",
        "        self.lstm_state_h=0\n",
        "        self.lstm_state_c=0\n",
        "    def build(self, input_shape):\n",
        "        self.embedding = Embedding(input_dim=self.inp_vocab_size, output_dim=self.embedding_size, input_length=self.input_length, name=\"embedding_layer_encoder\",embeddings_initializer=init)\n",
        "        self.masking=Masking(mask_value=0)\n",
        "        self.lstm = LSTM(self.lstm_size, return_state=True, name=\"Encoder_LSTM\",kernel_initializer=init,dropout=0.2)\n",
        "    def call(self,input_sequence,training=True):\n",
        "        input_embedd = self.embedding(input_sequence)\n",
        "        input_embedd=self.masking(input_embedd)\n",
        "        self.lstm_output, self.lstm_state_h,self.lstm_state_c = self.lstm(input_embedd)\n",
        "        return self.lstm_output, self.lstm_state_h,self.lstm_state_c\n",
        "        \n",
        "    def get_states(self):\n",
        "        return self.lstm_state_h,self.lstm_state_c"
      ],
      "execution_count": 29,
      "outputs": []
    },
    {
      "cell_type": "code",
      "metadata": {
        "id": "lnRUKE2xeYEA"
      },
      "source": [
        "class Decoder(tf.keras.Model):\n",
        "    def __init__(self,out_vocab_size,embedding_size,lstm_size,input_length):\n",
        "        super().__init__()\n",
        "        self.out_vocab_size=out_vocab_size\n",
        "        self.embedding_size=embedding_size\n",
        "        self.lstm_size=lstm_size\n",
        "        self.input_length=input_length\n",
        "    def build(self, input_shape):\n",
        "        self.embedding = Embedding(input_dim=self.out_vocab_size, output_dim=self.embedding_size, input_length=None,\n",
        "                           name=\"embedding_layer_decoder\",weights=[embedding_matrix], trainable=False)\n",
        "        self.masking=Masking(mask_value=0)\n",
        "        self.lstm = LSTM(self.lstm_size, return_state=True, return_sequences=True, name=\"Decoder_LSTM\",kernel_initializer=init,dropout=0.2)\n",
        "    def call(self,target_sentances,state_h,state_c):\n",
        "        #print(\"DECODER ==> IN PUT SQUENCES SHAPE :\",target_sentances.shape)\n",
        "        target_embedd           = self.embedding(target_sentances)\n",
        "        target_embedd=self.masking(target_embedd)\n",
        "        #print(\"WE ARE INITIALIZING DECODER WITH ENCODER STATES :\",state_h.shape, state_c.shape)\n",
        "        lstm_output,dec_h,dec_c       = self.lstm(target_embedd, initial_state=[state_h, state_c])\n",
        "        return lstm_output,dec_h,dec_c"
      ],
      "execution_count": 30,
      "outputs": []
    },
    {
      "cell_type": "code",
      "metadata": {
        "id": "9i_U9QEPeYEE"
      },
      "source": [
        "class Encoder_decoder(tf.keras.Model):\n",
        "    def __init__(self,encoder_input_length,decoder_input_length,output_vocabsize):\n",
        "        super().__init__()\n",
        "        self.encoder = Encoder(inp_vocab_size=vocab_size_ita+1,embedding_size=100,input_length=encoder_input_length, lstm_size=512)\n",
        "        self.decoder = Decoder(out_vocab_size=vocab_size_eng+1, embedding_size=100, input_length=decoder_input_length, lstm_size=512)\n",
        "        self.dense   = TimeDistributed(Dense(units=output_vocabsize+1,activation=\"softmax\",kernel_initializer=init)    )\n",
        "    def call(self, data):\n",
        "        input,output = data[0], data[1]\n",
        "        #print(\"=\"*20, \"ENCODER\", \"=\"*20)\n",
        "        encoder_output, encoder_h, encoder_c = self.encoder(input)\n",
        "        decoder_output                       = self.decoder(output, encoder_h, encoder_c)[0]\n",
        "        output                               = self.dense(decoder_output)\n",
        "        return output    "
      ],
      "execution_count": 31,
      "outputs": []
    },
    {
      "cell_type": "code",
      "metadata": {
        "id": "Nd4mzAA5eYEH",
        "colab": {
          "base_uri": "https://localhost:8080/"
        },
        "outputId": "8ea87d15-1818-46ff-c2d1-c1ca30a717f5"
      },
      "source": [
        "embedding_matrix.shape"
      ],
      "execution_count": 32,
      "outputs": [
        {
          "output_type": "execute_result",
          "data": {
            "text/plain": [
              "(12839, 100)"
            ]
          },
          "metadata": {
            "tags": []
          },
          "execution_count": 32
        }
      ]
    },
    {
      "cell_type": "code",
      "metadata": {
        "id": "1Fc-Dv9ueYEL"
      },
      "source": [
        ""
      ],
      "execution_count": 32,
      "outputs": []
    },
    {
      "cell_type": "code",
      "metadata": {
        "id": "4pJIHRGHeYEN",
        "colab": {
          "base_uri": "https://localhost:8080/"
        },
        "outputId": "0f772b72-deb4-4b13-ea21-043301ab3a29"
      },
      "source": [
        "train_dataset = Dataset(data, tknizer_ita, tknizer_eng, 20)\n",
        "\n",
        "test_dataset  = Dataset(validation, tknizer_ita, tknizer_eng, 20)\n",
        "\n",
        "train_dataloader = Dataloder(train_dataset, batch_size=1024)\n",
        "test_dataloader = Dataloder(test_dataset, batch_size=1024)\n",
        "\n",
        "\n",
        "print(train_dataloader[0][0][0].shape, train_dataloader[0][0][1].shape, train_dataloader[0][1].shape)"
      ],
      "execution_count": 33,
      "outputs": [
        {
          "output_type": "stream",
          "text": [
            "(1024, 20) (1024, 20) (1024, 20)\n"
          ],
          "name": "stdout"
        }
      ]
    },
    {
      "cell_type": "code",
      "metadata": {
        "id": "ZnVcvt48eYET",
        "colab": {
          "base_uri": "https://localhost:8080/"
        },
        "outputId": "073de0f6-d573-4bdf-987c-05ea4b37b59a"
      },
      "source": [
        "vocab_size_eng"
      ],
      "execution_count": 34,
      "outputs": [
        {
          "output_type": "execute_result",
          "data": {
            "text/plain": [
              "12838"
            ]
          },
          "metadata": {
            "tags": []
          },
          "execution_count": 34
        }
      ]
    },
    {
      "cell_type": "markdown",
      "metadata": {
        "id": "gn8eD59Ga_Dp"
      },
      "source": [
        "### Callbacks\n"
      ]
    },
    {
      "cell_type": "code",
      "metadata": {
        "id": "Fs5NuPDobCox"
      },
      "source": [
        "#earlystopping\n",
        "import numpy as np\n",
        "\n",
        "\n",
        "class EarlyStoppingAtMinLoss(tf.keras.callbacks.Callback):\n",
        "    \"\"\"Stop training when the loss is at its min, i.e. the loss stops decreasing.\n",
        "\n",
        "  Arguments:\n",
        "      patience: Number of epochs to wait after min has been hit. After this\n",
        "      number of no improvement, training stops.\n",
        "  \"\"\"\n",
        "\n",
        "    def __init__(self, patience=3):\n",
        "        super(EarlyStoppingAtMinLoss, self).__init__()\n",
        "        self.patience = patience\n",
        "        # best_weights to store the weights at which the minimum loss occurs.\n",
        "        self.best_weights = None\n",
        "\n",
        "    def on_train_begin(self, logs=None):\n",
        "        # The number of epoch it has waited when loss is no longer minimum.\n",
        "        self.wait = 0\n",
        "        # The epoch the training stops at.\n",
        "        self.stopped_epoch = 0\n",
        "        # Initialize the best as infinity.\n",
        "        #self.best = np.Inf\n",
        "\n",
        "    def on_epoch_end(self, epoch, logs=None):\n",
        "        current_loss = logs.get(\"loss\")\n",
        "        current_valloss = logs.get(\"val_loss\")\n",
        "        if np.less(current_valloss,current_loss):\n",
        "            #self.best = current\n",
        "            self.wait = 0\n",
        "            # Record the best weights if current results is better (less).\n",
        "            self.best_weights = self.model.get_weights()\n",
        "        else:\n",
        "            self.wait += 1\n",
        "            if self.wait >= self.patience:\n",
        "                self.stopped_epoch = epoch\n",
        "                self.model.stop_training = True\n",
        "                print(\"Restoring model weights from the end of the best epoch.\")\n",
        "                self.model.set_weights(self.best_weights)\n",
        "\n",
        "    def on_train_end(self, logs=None):\n",
        "        if self.stopped_epoch > 0:\n",
        "            print(\"Epoch %05d: early stopping\" % (self.stopped_epoch + 1))\n",
        "\n",
        "\n"
      ],
      "execution_count": 35,
      "outputs": []
    },
    {
      "cell_type": "code",
      "metadata": {
        "id": "rh03kABXeYEW",
        "colab": {
          "base_uri": "https://localhost:8080/"
        },
        "outputId": "cae2ab51-661c-433f-ae7e-79c752aa1a5f"
      },
      "source": [
        "model  = Encoder_decoder(encoder_input_length=20,decoder_input_length=None,output_vocabsize=vocab_size_eng)\n",
        "optimizer = tf.keras.optimizers.Adam()\n",
        "model.compile(optimizer=optimizer,loss='sparse_categorical_crossentropy')\n",
        "train_steps=train.shape[0]//1024\n",
        "valid_steps=validation.shape[0]//1024\n",
        "history=model.fit_generator(train_dataloader, steps_per_epoch=train_steps, epochs=50, validation_data=train_dataloader, validation_steps=valid_steps,verbose=1)\n",
        "model.summary()"
      ],
      "execution_count": 41,
      "outputs": [
        {
          "output_type": "stream",
          "text": [
            "Epoch 1/50\n",
            "268/268 [==============================] - 107s 398ms/step - loss: 1.4830 - val_loss: 0.7293\n",
            "Epoch 2/50\n",
            "268/268 [==============================] - 104s 389ms/step - loss: 1.2404 - val_loss: 0.6568\n",
            "Epoch 3/50\n",
            "268/268 [==============================] - 104s 389ms/step - loss: 1.1020 - val_loss: 0.5792\n",
            "Epoch 4/50\n",
            "268/268 [==============================] - 104s 389ms/step - loss: 0.9963 - val_loss: 0.5242\n",
            "Epoch 5/50\n",
            "268/268 [==============================] - 104s 390ms/step - loss: 0.8921 - val_loss: 0.4531\n",
            "Epoch 6/50\n",
            "268/268 [==============================] - 104s 389ms/step - loss: 0.7774 - val_loss: 0.3742\n",
            "Epoch 7/50\n",
            "268/268 [==============================] - 105s 391ms/step - loss: 0.7015 - val_loss: 0.3194\n",
            "Epoch 8/50\n",
            "268/268 [==============================] - 104s 389ms/step - loss: 0.6241 - val_loss: 0.2619\n",
            "Epoch 9/50\n",
            "268/268 [==============================] - 104s 389ms/step - loss: 0.5420 - val_loss: 0.2144\n",
            "Epoch 10/50\n",
            "268/268 [==============================] - 104s 390ms/step - loss: 0.4796 - val_loss: 0.1752\n",
            "Epoch 11/50\n",
            "268/268 [==============================] - 104s 389ms/step - loss: 0.3967 - val_loss: 0.1396\n",
            "Epoch 12/50\n",
            "268/268 [==============================] - 104s 389ms/step - loss: 0.3566 - val_loss: 0.1161\n",
            "Epoch 13/50\n",
            "268/268 [==============================] - 104s 388ms/step - loss: 0.3205 - val_loss: 0.1035\n",
            "Epoch 14/50\n",
            "268/268 [==============================] - 104s 387ms/step - loss: 0.2731 - val_loss: 0.0815\n",
            "Epoch 15/50\n",
            "268/268 [==============================] - 104s 389ms/step - loss: 0.2502 - val_loss: 0.0760\n",
            "Epoch 16/50\n",
            "268/268 [==============================] - 104s 389ms/step - loss: 0.2200 - val_loss: 0.0635\n",
            "Epoch 17/50\n",
            "268/268 [==============================] - 104s 389ms/step - loss: 0.2081 - val_loss: 0.0628\n",
            "Epoch 18/50\n",
            "268/268 [==============================] - 104s 390ms/step - loss: 0.1932 - val_loss: 0.0554\n",
            "Epoch 19/50\n",
            "268/268 [==============================] - 104s 389ms/step - loss: 0.1763 - val_loss: 0.0483\n",
            "Epoch 20/50\n",
            "268/268 [==============================] - 104s 388ms/step - loss: 0.1627 - val_loss: 0.0522\n",
            "Epoch 21/50\n",
            "268/268 [==============================] - 104s 389ms/step - loss: 0.1564 - val_loss: 0.0427\n",
            "Epoch 22/50\n",
            "268/268 [==============================] - 105s 391ms/step - loss: 0.1403 - val_loss: 0.0401\n",
            "Epoch 23/50\n",
            "268/268 [==============================] - 105s 390ms/step - loss: 0.1347 - val_loss: 0.0361\n",
            "Epoch 24/50\n",
            "268/268 [==============================] - 104s 390ms/step - loss: 0.1260 - val_loss: 0.0414\n",
            "Epoch 25/50\n",
            "268/268 [==============================] - 105s 390ms/step - loss: 0.1195 - val_loss: 0.0333\n",
            "Epoch 26/50\n",
            "268/268 [==============================] - 105s 390ms/step - loss: 0.1088 - val_loss: 0.0344\n",
            "Epoch 27/50\n",
            "268/268 [==============================] - 104s 387ms/step - loss: 0.1065 - val_loss: 0.0324\n",
            "Epoch 28/50\n",
            "268/268 [==============================] - 104s 388ms/step - loss: 0.0965 - val_loss: 0.0319\n",
            "Epoch 29/50\n",
            "268/268 [==============================] - 104s 388ms/step - loss: 0.0954 - val_loss: 0.0285\n",
            "Epoch 30/50\n",
            "268/268 [==============================] - 104s 387ms/step - loss: 0.0911 - val_loss: 0.0284\n",
            "Epoch 31/50\n",
            "268/268 [==============================] - 104s 387ms/step - loss: 0.0892 - val_loss: 0.0258\n",
            "Epoch 32/50\n",
            "268/268 [==============================] - 104s 386ms/step - loss: 0.0823 - val_loss: 0.0261\n",
            "Epoch 33/50\n",
            "268/268 [==============================] - 103s 385ms/step - loss: 0.0777 - val_loss: 0.0255\n",
            "Epoch 34/50\n",
            "268/268 [==============================] - 104s 387ms/step - loss: 0.0736 - val_loss: 0.0241\n",
            "Epoch 35/50\n",
            "268/268 [==============================] - 104s 386ms/step - loss: 0.0735 - val_loss: 0.0227\n",
            "Epoch 36/50\n",
            "268/268 [==============================] - 103s 385ms/step - loss: 0.0735 - val_loss: 0.0228\n",
            "Epoch 37/50\n",
            "268/268 [==============================] - 103s 386ms/step - loss: 0.0652 - val_loss: 0.0219\n",
            "Epoch 38/50\n",
            "268/268 [==============================] - 103s 386ms/step - loss: 0.0647 - val_loss: 0.0221\n",
            "Epoch 39/50\n",
            "268/268 [==============================] - 103s 386ms/step - loss: 0.0644 - val_loss: 0.0239\n",
            "Epoch 40/50\n",
            "268/268 [==============================] - 103s 386ms/step - loss: 0.0616 - val_loss: 0.0206\n",
            "Epoch 41/50\n",
            "268/268 [==============================] - 104s 386ms/step - loss: 0.0576 - val_loss: 0.0193\n",
            "Epoch 42/50\n",
            "268/268 [==============================] - 104s 388ms/step - loss: 0.0575 - val_loss: 0.0187\n",
            "Epoch 43/50\n",
            "268/268 [==============================] - 104s 389ms/step - loss: 0.0550 - val_loss: 0.0195\n",
            "Epoch 44/50\n",
            "268/268 [==============================] - 103s 386ms/step - loss: 0.0533 - val_loss: 0.0190\n",
            "Epoch 45/50\n",
            "268/268 [==============================] - 104s 386ms/step - loss: 0.0546 - val_loss: 0.0180\n",
            "Epoch 46/50\n",
            "268/268 [==============================] - 103s 386ms/step - loss: 0.0492 - val_loss: 0.0183\n",
            "Epoch 47/50\n",
            "268/268 [==============================] - 103s 386ms/step - loss: 0.0499 - val_loss: 0.0184\n",
            "Epoch 48/50\n",
            "268/268 [==============================] - 103s 385ms/step - loss: 0.0466 - val_loss: 0.0183\n",
            "Epoch 49/50\n",
            "268/268 [==============================] - 103s 386ms/step - loss: 0.0464 - val_loss: 0.0177\n",
            "Epoch 50/50\n",
            "268/268 [==============================] - 103s 385ms/step - loss: 0.0453 - val_loss: 0.0167\n",
            "Model: \"encoder_decoder_4\"\n",
            "_________________________________________________________________\n",
            "Layer (type)                 Output Shape              Param #   \n",
            "=================================================================\n",
            "encoder_4 (Encoder)          multiple                  3879524   \n",
            "_________________________________________________________________\n",
            "decoder_4 (Decoder)          multiple                  2539324   \n",
            "_________________________________________________________________\n",
            "time_distributed_4 (TimeDist multiple                  6586407   \n",
            "=================================================================\n",
            "Total params: 13,005,255\n",
            "Trainable params: 11,721,355\n",
            "Non-trainable params: 1,283,900\n",
            "_________________________________________________________________\n"
          ],
          "name": "stdout"
        }
      ]
    },
    {
      "cell_type": "code",
      "metadata": {
        "id": "k6ZbqFXe_WE8",
        "colab": {
          "base_uri": "https://localhost:8080/",
          "height": 295
        },
        "outputId": "af604422-3a89-4b8f-eaad-f8a3061b2ecf"
      },
      "source": [
        "import matplotlib.pyplot as plt\n",
        "plt.title('Learning Curves')\n",
        "plt.xlabel('Epoch')\n",
        "plt.ylabel('Cross Entropy')\n",
        "plt.plot(history.history['loss'], label='train')\n",
        "plt.plot(history.history['val_loss'], label='val')\n",
        "plt.legend()\n",
        "plt.show()\n"
      ],
      "execution_count": 42,
      "outputs": [
        {
          "output_type": "display_data",
          "data": {
            "image/png": "[encoded data removed]",
            "text/plain": [
              "<Figure size 432x288 with 1 Axes>"
            ]
          },
          "metadata": {
            "tags": [],
            "needs_background": "light"
          }
        }
      ]
    },
    {
      "cell_type": "code",
      "metadata": {
        "id": "UFZrYi8co6m0",
        "colab": {
          "base_uri": "https://localhost:8080/",
          "height": 51
        },
        "outputId": "9759d763-5a8f-4053-8678-8bda8a236b2a"
      },
      "source": [
        "\"\"\"\n",
        "import matplotlib.pyplot as plt\n",
        "plt.title('Learning Curves')\n",
        "plt.xlabel('Epoch')\n",
        "plt.ylabel('Cross Entropy')\n",
        "plt.plot(history.history['loss'], label='train')\n",
        "plt.plot(history.history['val_loss'], label='val')\n",
        "plt.legend()\n",
        "plt.show()\n",
        "\"\"\""
      ],
      "execution_count": null,
      "outputs": [
        {
          "output_type": "execute_result",
          "data": {
            "application/vnd.google.colaboratory.intrinsic+json": {
              "type": "string"
            },
            "text/plain": [
              "\"\\nimport matplotlib.pyplot as plt\\nplt.title('Learning Curves')\\nplt.xlabel('Epoch')\\nplt.ylabel('Cross Entropy')\\nplt.plot(history.history['loss'], label='train')\\nplt.plot(history.history['val_loss'], label='val')\\nplt.legend()\\nplt.show()\\n\""
            ]
          },
          "metadata": {
            "tags": []
          },
          "execution_count": 46
        }
      ]
    },
    {
      "cell_type": "code",
      "metadata": {
        "id": "mqjYLh-DeYEd"
      },
      "source": [
        "\n",
        "def predic_fun(input_sentence):\n",
        "    input_pred=[tknizer_ita.word_index[i] for i in input_sentence.split()] \n",
        "    print(\"input tokens\",input_pred)\n",
        "    a,b,c=model.layers[0](np.expand_dims(input_pred, 0))\n",
        "    state_values=[b,c]\n",
        "    start=\"<start>\"\n",
        "    pred=[]\n",
        "    for i in range(0,20):\n",
        "        start=tknizer_eng.word_index[start] \n",
        "        cur_vec = np.array(start).reshape(1,1)\n",
        "        cur_emb=model.layers[1].embedding(cur_vec)\n",
        "        infe_output, state_h, state_c = model.layers[1].lstm(cur_emb, initial_state=state_values)\n",
        "        state_values=[state_h, state_c]\n",
        "        infe_output=model.layers[2](infe_output)\n",
        "        ind=np.argmax(infe_output)\n",
        "        start=tknizer_eng.index_word[ind]\n",
        "        print(\"new eng word\",start)\n",
        "        pred.append(tknizer_eng.index_word[ind])\n",
        "        if start==\"<end>\":\n",
        "            break\n",
        "    return pred"
      ],
      "execution_count": 43,
      "outputs": []
    },
    {
      "cell_type": "code",
      "metadata": {
        "id": "vV_ZUWlu29Q3",
        "colab": {
          "base_uri": "https://localhost:8080/"
        },
        "outputId": "bb254439-a934-4c1f-8a91-e28ead40f26d"
      },
      "source": [
        "model.layers"
      ],
      "execution_count": 44,
      "outputs": [
        {
          "output_type": "execute_result",
          "data": {
            "text/plain": [
              "[<__main__.Encoder at 0x7fe136963828>,\n",
              " <__main__.Decoder at 0x7fe1369631d0>,\n",
              " <tensorflow.python.keras.layers.wrappers.TimeDistributed at 0x7fe279acbb38>]"
            ]
          },
          "metadata": {
            "tags": []
          },
          "execution_count": 44
        }
      ]
    },
    {
      "cell_type": "code",
      "metadata": {
        "id": "IshLzUgbeYEg",
        "colab": {
          "base_uri": "https://localhost:8080/"
        },
        "outputId": "ed53a3fd-3b36-4901-e627-418c25c7deb3"
      },
      "source": [
        "predic_fun(\"correte\")"
      ],
      "execution_count": 47,
      "outputs": [
        {
          "output_type": "stream",
          "text": [
            "input tokens [6437]\n",
            "new eng word or\n",
            "new eng word not\n",
            "new eng word take\n",
            "new eng word <end>\n"
          ],
          "name": "stdout"
        },
        {
          "output_type": "execute_result",
          "data": {
            "text/plain": [
              "['or', 'not', 'take', '<end>']"
            ]
          },
          "metadata": {
            "tags": []
          },
          "execution_count": 47
        }
      ]
    },
    {
      "cell_type": "code",
      "metadata": {
        "id": "DYSUNxtLeYEm",
        "colab": {
          "base_uri": "https://localhost:8080/",
          "height": 191
        },
        "outputId": "d535f01f-efc2-442b-db1e-25e288c048b9"
      },
      "source": [
        "data.head()"
      ],
      "execution_count": null,
      "outputs": [
        {
          "output_type": "execute_result",
          "data": {
            "text/html": [
              "<div>\n",
              "<style scoped>\n",
              "    .dataframe tbody tr th:only-of-type {\n",
              "        vertical-align: middle;\n",
              "    }\n",
              "\n",
              "    .dataframe tbody tr th {\n",
              "        vertical-align: top;\n",
              "    }\n",
              "\n",
              "    .dataframe thead th {\n",
              "        text-align: right;\n",
              "    }\n",
              "</style>\n",
              "<table border=\"1\" class=\"dataframe\">\n",
              "  <thead>\n",
              "    <tr style=\"text-align: right;\">\n",
              "      <th></th>\n",
              "      <th>italian</th>\n",
              "      <th>english_inp</th>\n",
              "      <th>english_out</th>\n",
              "    </tr>\n",
              "  </thead>\n",
              "  <tbody>\n",
              "    <tr>\n",
              "      <th>0</th>\n",
              "      <td>ciao</td>\n",
              "      <td>&lt;start&gt; hi</td>\n",
              "      <td>hi &lt;end&gt;</td>\n",
              "    </tr>\n",
              "    <tr>\n",
              "      <th>1</th>\n",
              "      <td>corri</td>\n",
              "      <td>&lt;start&gt; run</td>\n",
              "      <td>run &lt;end&gt;</td>\n",
              "    </tr>\n",
              "    <tr>\n",
              "      <th>2</th>\n",
              "      <td>corra</td>\n",
              "      <td>&lt;start&gt; run</td>\n",
              "      <td>run &lt;end&gt;</td>\n",
              "    </tr>\n",
              "    <tr>\n",
              "      <th>3</th>\n",
              "      <td>correte</td>\n",
              "      <td>&lt;start&gt; run</td>\n",
              "      <td>run &lt;end&gt;</td>\n",
              "    </tr>\n",
              "    <tr>\n",
              "      <th>4</th>\n",
              "      <td>chi</td>\n",
              "      <td>&lt;start&gt; who</td>\n",
              "      <td>who &lt;end&gt;</td>\n",
              "    </tr>\n",
              "  </tbody>\n",
              "</table>\n",
              "</div>"
            ],
            "text/plain": [
              "   italian  english_inp english_out\n",
              "0     ciao   <start> hi    hi <end>\n",
              "1    corri  <start> run   run <end>\n",
              "2    corra  <start> run   run <end>\n",
              "3  correte  <start> run   run <end>\n",
              "4      chi  <start> who   who <end>"
            ]
          },
          "metadata": {
            "tags": []
          },
          "execution_count": 101
        }
      ]
    },
    {
      "cell_type": "code",
      "metadata": {
        "id": "xfpidrhWeYEo"
      },
      "source": [
        ""
      ],
      "execution_count": null,
      "outputs": []
    },
    {
      "cell_type": "code",
      "metadata": {
        "id": "FSvWNGqBeYEw",
        "outputId": "e4895f71-1857-4cc1-b3e7-f8a959079b3d"
      },
      "source": [
        "start=\"<start>\"\n",
        "start=tknizer_eng.word_index[start] \n",
        "\n",
        "print(cur_vec)\n",
        "cur_emb=model.layers[1].embedding(cur_vec)\n",
        "infe_output, state_h, state_c = model.layers[1].lstm(cur_emb, initial_state=state_values)"
      ],
      "execution_count": null,
      "outputs": [
        {
          "output_type": "stream",
          "text": [
            "[[1]]\n"
          ],
          "name": "stdout"
        }
      ]
    },
    {
      "cell_type": "code",
      "metadata": {
        "id": "32cSbKCGeYE0",
        "outputId": "66c2b2b2-d0ee-4313-f603-b4665fa267b7"
      },
      "source": [
        "(model.layers[2](infe_output))"
      ],
      "execution_count": null,
      "outputs": [
        {
          "output_type": "execute_result",
          "data": {
            "text/plain": [
              "<tf.Tensor: shape=(1, 1, 12824), dtype=float32, numpy=\n",
              "array([[[4.4696963e-06, 4.8093671e-06, 3.4546074e-02, ...,\n",
              "         5.9254130e-06, 5.9093695e-06, 6.6285579e-06]]], dtype=float32)>"
            ]
          },
          "metadata": {
            "tags": []
          },
          "execution_count": 91
        }
      ]
    },
    {
      "cell_type": "code",
      "metadata": {
        "id": "w1D41-rff1Ef"
      },
      "source": [
        ""
      ],
      "execution_count": null,
      "outputs": []
    }
  ]
}